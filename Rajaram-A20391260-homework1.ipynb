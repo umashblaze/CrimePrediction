{
 "cells": [
  {
   "cell_type": "markdown",
   "metadata": {},
   "source": [
    "**Author:** Umashankar Rajaram  \n",
    "**CWID:**   A20391260  \n",
    "\n",
    "**Content:** Machine Learning Analysis on Crime data  \n",
    "**Purpose:** To assist FBI and Police departments in identifying the areas that trigger crime.  \n",
    "**Tools:** Python 3.6 as interpreter with Scikit-learn 0.18.1"
   ]
  },
  {
   "cell_type": "code",
   "execution_count": 1,
   "metadata": {
    "collapsed": false
   },
   "outputs": [],
   "source": [
    "import pandas as pd\n",
    "import numpy as np\n",
    "import matplotlib as plt"
   ]
  },
  {
   "cell_type": "code",
   "execution_count": 2,
   "metadata": {
    "collapsed": false
   },
   "outputs": [
    {
     "name": "stdout",
     "output_type": "stream",
     "text": [
      "Dataframe Dimensions:  (1993, 104)\n"
     ]
    }
   ],
   "source": [
    "#Creating a dataframe from the given CSV file\n",
    "crime_df = pd.read_csv(\"C:\\\\Users\\\\Chandra Balaji\\\\Desktop\\\\Notebooks\\\\datasets\\\\communities-crime-clean.csv\")\n",
    "print(\"Dataframe Dimensions: \", crime_df.shape)"
   ]
  },
  {
   "cell_type": "code",
   "execution_count": 3,
   "metadata": {
    "collapsed": false
   },
   "outputs": [
    {
     "name": "stdout",
     "output_type": "stream",
     "text": [
      "true     1250\n",
      "false     743\n",
      "Name: highCrime, dtype: int64\n"
     ]
    }
   ],
   "source": [
    "#Adding a field \"highCrime\" that has the classfied results\n",
    "crime_df['highCrime'] = np.where(crime_df['ViolentCrimesPerPop'] > 0.1, 'true', 'false')\n",
    "#Storing the counts of unique values of the result in a Series object\n",
    "crimeResult = crime_df['highCrime'].value_counts()\n",
    "print(crimeResult)"
   ]
  },
  {
   "cell_type": "markdown",
   "metadata": {},
   "source": [
    "## 1. Decison Trees\n",
    "### (1.a) Crime percentage:"
   ]
  },
  {
   "cell_type": "code",
   "execution_count": 4,
   "metadata": {
    "collapsed": false
   },
   "outputs": [
    {
     "name": "stdout",
     "output_type": "stream",
     "text": [
      "Number of 'true' Instances: 1250, Percentage: 62.719518%\n",
      "Number of 'false' Instances: 743, Percentage: 37.280482%\n"
     ]
    }
   ],
   "source": [
    "#------------------Percentage calculation function-------------------------\n",
    "def class_dist(value, total, classLabel):\n",
    "        percent = (value/total)*100\n",
    "        print(\"Number of '%s' Instances: %d, Percentage: %f%%\"%(classLabel, value, percent))\n",
    "#--------------------------------------------------------------------------\n",
    "\n",
    "class_dist(crimeResult['true'], crime_df['highCrime'].count(), 'true')\n",
    "class_dist(crimeResult['false'], crime_df['highCrime'].count(), 'false')"
   ]
  },
  {
   "cell_type": "markdown",
   "metadata": {
    "collapsed": true
   },
   "source": [
    "### (1.b) Decision Tree Classifier Learning:"
   ]
  },
  {
   "cell_type": "code",
   "execution_count": 5,
   "metadata": {
    "collapsed": false
   },
   "outputs": [
    {
     "data": {
      "text/plain": [
       "DecisionTreeClassifier(class_weight=None, criterion='gini', max_depth=None,\n",
       "            max_features=None, max_leaf_nodes=None,\n",
       "            min_impurity_split=1e-07, min_samples_leaf=1,\n",
       "            min_samples_split=2, min_weight_fraction_leaf=0.0,\n",
       "            presort=False, random_state=None, splitter='best')"
      ]
     },
     "execution_count": 5,
     "metadata": {},
     "output_type": "execute_result"
    }
   ],
   "source": [
    "from sklearn import tree\n",
    "from sklearn import preprocessing\n",
    "\n",
    "#Excluding the crime rate field \"ViolentCrimesPerPop\" from the dataset\n",
    "input_df = crime_df.drop('ViolentCrimesPerPop', axis=1)\n",
    "\n",
    "#Transforming the categorical attribute \"çommunityname\" into integer values\n",
    "uniqueStrings = input_df.communityname.unique()\n",
    "le = preprocessing.LabelEncoder()\n",
    "le.fit(uniqueStrings)\n",
    "input_df['communityname'] = le.transform(input_df['communityname'])\n",
    "\n",
    "#Defining the training attributes and labels for the classifier to learn\n",
    "features_df = input_df.values[:, :-1]\n",
    "target_df = input_df.values[:,-1]\n",
    "\n",
    "#Invoking the Decision Tree Classifier with default arguments\n",
    "DT_Classifier_def = tree.DecisionTreeClassifier()\n",
    "DT_Classifier_def.fit(features_df, target_df)"
   ]
  },
  {
   "cell_type": "markdown",
   "metadata": {},
   "source": [
    "#### (1.b.i) Training Accuracy, Precision and Recall:"
   ]
  },
  {
   "cell_type": "code",
   "execution_count": 6,
   "metadata": {
    "collapsed": false
   },
   "outputs": [
    {
     "name": "stdout",
     "output_type": "stream",
     "text": [
      "\n",
      "DECISION TREE CLASSIFIER WITH \"DEFAULT\" ARGUMENTS - PREDICTION RESULTS:\n",
      "\n",
      "Confusion Matrix: \n",
      " [[1250    0]\n",
      " [   0  743]]\n",
      "\n",
      "Accuracy(%): \n",
      " 100.0\n",
      "\n",
      "Presicion(%): \n",
      " 100.0\n",
      "\n",
      "Recall(%): \n",
      " 100.0\n"
     ]
    }
   ],
   "source": [
    "from sklearn.metrics import accuracy_score\n",
    "from sklearn.metrics import confusion_matrix\n",
    "from sklearn.metrics import precision_score\n",
    "from sklearn.metrics import recall_score\n",
    "\n",
    "#Prediction with Decision Tree classifier\n",
    "target_DT_pred = DT_Classifier_def.predict(features_df)\n",
    "\n",
    "#------ Custom function to calculate prediction metrics of the classifier ------\n",
    "def prediction_metrics(target_true, target_predicted):\n",
    "    print(\"Confusion Matrix: \\n\",confusion_matrix(target_true, target_predicted, labels = ['true', 'false']))\n",
    "    print(\"\\nAccuracy(%): \\n\", round(accuracy_score(target_true, target_predicted)*100, 2))\n",
    "    print(\"\\nPresicion(%): \\n\", round(precision_score(target_true, target_predicted, pos_label='true', average='binary')*100, 2))\n",
    "    print(\"\\nRecall(%): \\n\", round(recall_score(target_true, target_predicted, pos_label='true', average='binary')*100, 2))\n",
    "#-------------------------------------------------------------------------------\n",
    "\n",
    "print(\"\\nDECISION TREE CLASSIFIER WITH \\\"DEFAULT\\\" ARGUMENTS - PREDICTION RESULTS:\\n\")\n",
    "prediction_metrics(target_df, target_DT_pred)"
   ]
  },
  {
   "cell_type": "markdown",
   "metadata": {},
   "source": [
    "##### Observation:\n",
    "> We find that the Decision tree algorithm with default arguments classifies the dataset perfectly with all the prediction metrics turning 100%. However, we can't proceed with this prediction as this just worked on training dataset and the classifier, using best possible default values, would have over-generalized the decision tree. This would be evident when we evaluate the classifier with **Cross-Validation** algorithm."
   ]
  },
  {
   "cell_type": "markdown",
   "metadata": {},
   "source": [
    "### (1.c) Cross-Validation to evaluate the Decision tree classifier's performance:\n",
    "#### (1.c.i) 10-fold Cross-Validation Accuracy, Precision and Recall score:"
   ]
  },
  {
   "cell_type": "code",
   "execution_count": 7,
   "metadata": {
    "collapsed": false
   },
   "outputs": [
    {
     "name": "stdout",
     "output_type": "stream",
     "text": [
      "\n",
      "EVALUATION OF DECISION TREE CLASSIFIER - with default arguments:\n",
      "\n"
     ]
    },
    {
     "data": {
      "image/png": "[encoded data removed]",
      "text/plain": [
       "<matplotlib.figure.Figure at 0x2112282da90>"
      ]
     },
     "metadata": {},
     "output_type": "display_data"
    },
    {
     "name": "stdout",
     "output_type": "stream",
     "text": [
      "10-fold Cross validation (Mean) scores: \n",
      "\n",
      "Accuracy(%): \n",
      " 72.2515075377\n",
      "Precision(%): \n",
      " 78.1860466146\n",
      "Recall(%): \n",
      " 78.56\n"
     ]
    }
   ],
   "source": [
    "from sklearn.model_selection import cross_val_score\n",
    "import matplotlib.pyplot as plt\n",
    "\n",
    "#----- Custom Function to transform class labels (true/false) into binary values (1/0)\n",
    "def binarizer(inputSeq):\n",
    "    lb = preprocessing.LabelBinarizer()\n",
    "    return np.array([number[0] for number in lb.fit_transform(inputSeq)])\n",
    "#-----------------------------------------------------------------------------\n",
    "   \n",
    "    \n",
    "#----- Custom function to calculate 10-fold cross validation scores -----\n",
    "def cv10_evalulate(classifier, features, target):\n",
    "    target_bin = binarizer(target)\n",
    "    cv10_accuracy = cross_val_score(classifier, features, target, cv=10)\n",
    "    cv10_precision = cross_val_score(classifier, features, target_bin, cv=10, scoring='precision')\n",
    "    cv10_recall = cross_val_score(classifier, features, target_bin, cv=10, scoring='recall')\n",
    "\n",
    "    #Plotting the cross-validation scores\n",
    "    plt.title(\"10-fold cross validation scores\")\n",
    "    plt.plot(range(10), cv10_accuracy, color=\"r\", label='Accuracy')\n",
    "    plt.plot(range(10), cv10_precision, color=\"g\", label='Precision')\n",
    "    plt.plot(range(10), cv10_recall, color=\"b\", label='Recall')\n",
    "    plt.xlabel('kth fold')\n",
    "    plt.ylabel('Score')\n",
    "    plt.legend(loc='best')\n",
    "    plt.show()\n",
    "\n",
    "    #Printing the mean socres\n",
    "    print(\"10-fold Cross validation (Mean) scores: \\n\")\n",
    "    print(\"Accuracy(%): \\n\", np.mean(cv10_accuracy)*100)\n",
    "    print(\"Precision(%): \\n\", np.mean(cv10_precision)*100)\n",
    "    print(\"Recall(%): \\n\", np.mean(cv10_recall)*100)\n",
    "#------------------------------------------------------------------------\n",
    "\n",
    "print(\"\\nEVALUATION OF DECISION TREE CLASSIFIER - with default arguments:\\n\")\n",
    "cv10_evalulate(DT_Classifier_def, features_df, target_df)"
   ]
  },
  {
   "cell_type": "markdown",
   "metadata": {},
   "source": [
    "##### Observation:\n",
    "> As we expected, the prediction metrics are worse. We can see that the accuracy value (currently observed) is 71.44%, which is a **28.56% drop!** So, we ned to tune the Decision tree classifier's arguments so that it will generalize better and score well in evaluations."
   ]
  },
  {
   "cell_type": "code",
   "execution_count": 8,
   "metadata": {
    "collapsed": false
   },
   "outputs": [
    {
     "data": {
      "text/plain": [
       "DecisionTreeClassifier(class_weight=None, criterion='gini', max_depth=4,\n",
       "            max_features=None, max_leaf_nodes=None,\n",
       "            min_impurity_split=1e-07, min_samples_leaf=20,\n",
       "            min_samples_split=80, min_weight_fraction_leaf=0.0,\n",
       "            presort=False, random_state=100, splitter='best')"
      ]
     },
     "execution_count": 8,
     "metadata": {},
     "output_type": "execute_result"
    }
   ],
   "source": [
    "#Invoking Decision tree classifier with some custom arguments and changed name (DT_Classifier1)\n",
    "DT_Classifier1 = tree.DecisionTreeClassifier(criterion = 'gini', random_state=100, max_depth=4, \\\n",
    "                                             min_samples_split=80, min_samples_leaf=20)\n",
    "DT_Classifier1.fit(features_df, target_df)"
   ]
  },
  {
   "cell_type": "code",
   "execution_count": 9,
   "metadata": {
    "collapsed": false
   },
   "outputs": [
    {
     "name": "stdout",
     "output_type": "stream",
     "text": [
      "\n",
      "DECISION TREE CLASSIFIER WITH \"CUSTOM\" ARGUMENTS - PREDICTION RESULTS:\n",
      "\n",
      "Confusion Matrix: \n",
      " [[1026  224]\n",
      " [  95  648]]\n",
      "\n",
      "Accuracy(%): \n",
      " 83.99\n",
      "\n",
      "Presicion(%): \n",
      " 91.53\n",
      "\n",
      "Recall(%): \n",
      " 82.08\n"
     ]
    }
   ],
   "source": [
    "#Prediction with the new Decision Tree classifier\n",
    "target_DT_pred = DT_Classifier1.predict(features_df)\n",
    "\n",
    "print(\"\\nDECISION TREE CLASSIFIER WITH \\\"CUSTOM\\\" ARGUMENTS - PREDICTION RESULTS:\\n\")\n",
    "prediction_metrics(target_df, target_DT_pred)"
   ]
  },
  {
   "cell_type": "markdown",
   "metadata": {},
   "source": [
    "##### Observation:\n",
    "> We find that the classifier with custom arguments has lower predicition metrics (not bad though) than that of the one with default arguments. Now, lets evaluate its performance using Cross Validation evaluator."
   ]
  },
  {
   "cell_type": "code",
   "execution_count": 10,
   "metadata": {
    "collapsed": false
   },
   "outputs": [
    {
     "name": "stdout",
     "output_type": "stream",
     "text": [
      "\n",
      "EVALUATION OF DECISION TREE CLASSIFIER - with custom arguments:\n",
      "\n"
     ]
    },
    {
     "data": {
      "image/png": "[encoded data removed]",
      "text/plain": [
       "<matplotlib.figure.Figure at 0x21121e2d5f8>"
      ]
     },
     "metadata": {},
     "output_type": "display_data"
    },
    {
     "name": "stdout",
     "output_type": "stream",
     "text": [
      "10-fold Cross validation (Mean) scores: \n",
      "\n",
      "Accuracy(%): \n",
      " 78.1221105528\n",
      "Precision(%): \n",
      " 82.7487658563\n",
      "Recall(%): \n",
      " 84.08\n"
     ]
    }
   ],
   "source": [
    "print(\"\\nEVALUATION OF DECISION TREE CLASSIFIER - with custom arguments:\\n\")\n",
    "cv10_evalulate(DT_Classifier1, features_df, target_df)"
   ]
  },
  {
   "cell_type": "markdown",
   "metadata": {},
   "source": [
    "##### Observation:\n",
    "> As observed, we got better evaluation results now with all the statistics showing an above average performance. So, we achieved a good generalization for the Decision tree classifier with some tuning. Let's stick here."
   ]
  },
  {
   "cell_type": "markdown",
   "metadata": {},
   "source": [
    "#### (1.b.ii) Main features used for classification:\n",
    "The main features can be identified by the measure of **\"Gini importance\"** assigned by the classifier. It is a \"mean decrease impurity\" and is defined as the total decrease in node impurity."
   ]
  },
  {
   "cell_type": "code",
   "execution_count": 11,
   "metadata": {
    "collapsed": false
   },
   "outputs": [
    {
     "name": "stdout",
     "output_type": "stream",
     "text": [
      "Feature ranking based on measurements:\n",
      "1.) feature 47 [PctKids2Par], Gini Importance = 0.665281\n",
      "2.) feature 6 [racePctWhite], Gini Importance = 0.155528\n",
      "3.) feature 8 [racePctHisp], Gini Importance = 0.084692\n",
      "4.) feature 74 [HousVacant], Gini Importance = 0.018573\n",
      "5.) feature 29 [HispPerCap], Gini Importance = 0.016833\n",
      "6.) feature 88 [MedRent], Gini Importance = 0.012833\n",
      "7.) feature 78 [PctVacMore6Mos], Gini Importance = 0.011662\n",
      "8.) feature 44 [TotalPctDiv], Gini Importance = 0.011362\n",
      "9.) feature 42 [MalePctNevMarr], Gini Importance = 0.009494\n",
      "10.) feature 0 [state], Gini Importance = 0.008023\n"
     ]
    },
    {
     "data": {
      "image/png": "[encoded data removed]",
      "text/plain": [
       "<matplotlib.figure.Figure at 0x21123635fd0>"
      ]
     },
     "metadata": {},
     "output_type": "display_data"
    }
   ],
   "source": [
    "#Extracting the feature importances established by the classifier\n",
    "f_importances = DT_Classifier1.feature_importances_\n",
    "feature_ranks_DT = np.argsort(f_importances)[::-1]\n",
    "\n",
    "#Shortlisting the top 10 features chosen by the classifier\n",
    "mostPred10Features_DT = feature_ranks_DT[:10]\n",
    "\n",
    "#------- Custom Function to display the 10 most predictive features --------\n",
    "def displayTop10Features(dataset, measuredValues, mostPred10Features, ylabel): \n",
    "    print(\"Feature ranking based on measurements:\")\n",
    "    for i in range(10):\n",
    "        print(\"%d.) feature %d [%s], %s = %f\" % (i + 1, mostPred10Features[i], \n",
    "                    dataset.columns[mostPred10Features[i]], ylabel, measuredValues[mostPred10Features[i]]))\n",
    "\n",
    "    #Plotting the results\n",
    "    plt.title(\"Most Predictive Features of the classifier\")\n",
    "    plt.bar(range(10), measuredValues[mostPred10Features], color=\"r\", align=\"center\")\n",
    "    plt.xticks(range(10), mostPred10Features)\n",
    "    plt.xlabel('Top 10 features')\n",
    "    plt.ylabel(ylabel)\n",
    "    plt.xlim([-1, 10])\n",
    "    plt.show()\n",
    "#---------------------------------------------------------------------------\n",
    "    \n",
    "displayTop10Features(input_df, f_importances, mostPred10Features_DT, 'Gini Importance')"
   ]
  },
  {
   "cell_type": "markdown",
   "metadata": {},
   "source": [
    "##### Observation:\n",
    "> Some of the main features chosen by the classifier for the perfect split are:   \n",
    "* PctKids2Par - Percentage of kids in family housing with two parents\n",
    "* racePctWhite - Percentage of population that is caucasian\n",
    "* racePctHisp - Percentage of population that is of hispanic heritage\n",
    "* PctVacMore6Mos - Percent of vacant housing that has been vacant more than 6 months\n",
    "* MalePctNevMarr - Percentage of males who have never married  \n",
    "\n",
    ">and so on..\n",
    "\n",
    "> The prediction shows that majority of the cases of crime could have happened because of **racial** issues, as given by their higher (Gini) importances - rank 2 and 3. House **vacancies** at rank 4 and 7 tells that abandonment of properties could factor in increasing crime rates. Also we have unmarried males chosen by the classifier which is at rank 9. So, it says that **men who are alone** are prone to indulge in activities that sometimes lead to crimes. Further, this attribute could be related to the others (racial and vacancy issues) as decribed above."
   ]
  },
  {
   "cell_type": "markdown",
   "metadata": {
    "collapsed": true
   },
   "source": [
    "## 2. Linear Classification\n",
    "### (2.a) Gaussian Naive Bayes"
   ]
  },
  {
   "cell_type": "code",
   "execution_count": 12,
   "metadata": {
    "collapsed": false,
    "scrolled": false
   },
   "outputs": [
    {
     "data": {
      "text/plain": [
       "GaussianNB(priors=None)"
      ]
     },
     "execution_count": 12,
     "metadata": {},
     "output_type": "execute_result"
    }
   ],
   "source": [
    "from sklearn.naive_bayes import GaussianNB\n",
    "gNB_Classifier = GaussianNB()\n",
    "\n",
    "'''\n",
    "Note: \"communityname\" attribute is categorical, which we encoded before. \n",
    "DT classifier found its feature_importance as '0' and so we could take that\n",
    "its absence doesn't affect the classification accuray. Now, we can drop \n",
    "this attribute before normalizing the dataframe.\n",
    "'''\n",
    "#Dropping the \"\"communityname\" feature, \n",
    "#Renaming the dataframe as \"input_df2\" (Shape: 1993x103), &\n",
    "#Altering the training dataset\n",
    "input_df2 = input_df.drop(['communityname'], axis=1)\n",
    "features_df2 = input_df2.values[:, :-1]\n",
    "target_df2 = input_df2.values[:,-1]\n",
    "\n",
    "gNB_Classifier.fit(features_df2, target_df2)"
   ]
  },
  {
   "cell_type": "code",
   "execution_count": 13,
   "metadata": {
    "collapsed": false,
    "scrolled": true
   },
   "outputs": [
    {
     "name": "stdout",
     "output_type": "stream",
     "text": [
      "\n",
      "GAUSSIAN_NB CLASSIFIER - PREDICTION RESULTS:\n",
      "\n",
      "Confusion Matrix: \n",
      " [[869 381]\n",
      " [ 64 679]]\n",
      "\n",
      "Accuracy(%): \n",
      " 77.67\n",
      "\n",
      "Presicion(%): \n",
      " 93.14\n",
      "\n",
      "Recall(%): \n",
      " 69.52\n"
     ]
    }
   ],
   "source": [
    "#Prediction with Gaussian Naive Bayes classifier\n",
    "target_gNB_pred = gNB_Classifier.predict(features_df2)\n",
    "print(\"\\nGAUSSIAN_NB CLASSIFIER - PREDICTION RESULTS:\\n\")\n",
    "prediction_metrics(target_df2, target_gNB_pred)"
   ]
  },
  {
   "cell_type": "markdown",
   "metadata": {},
   "source": [
    "#### (2.a.i) 10-fold Cross-Validation to evaluate the GaussianNB classifier's performance:"
   ]
  },
  {
   "cell_type": "code",
   "execution_count": 14,
   "metadata": {
    "collapsed": false
   },
   "outputs": [
    {
     "name": "stdout",
     "output_type": "stream",
     "text": [
      "\n",
      "GAUSSIAN_NB CLASSIFIER - CROSS VALIDATION RESULTS: \n",
      "\n"
     ]
    },
    {
     "data": {
      "image/png": "[encoded data removed]",
      "text/plain": [
       "<matplotlib.figure.Figure at 0x21123662b38>"
      ]
     },
     "metadata": {},
     "output_type": "display_data"
    },
    {
     "name": "stdout",
     "output_type": "stream",
     "text": [
      "10-fold Cross validation (Mean) scores: \n",
      "\n",
      "Accuracy(%): \n",
      " 76.5108040201\n",
      "Precision(%): \n",
      " 91.2419309104\n",
      "Recall(%): \n",
      " 69.76\n"
     ]
    }
   ],
   "source": [
    "print(\"\\nGAUSSIAN_NB CLASSIFIER - CROSS VALIDATION RESULTS: \\n\")\n",
    "cv10_evalulate(gNB_Classifier, features_df2, target_df2)"
   ]
  },
  {
   "cell_type": "markdown",
   "metadata": {},
   "source": [
    "##### Observation:\n",
    "> Based on the results, we find that evaluation metrics are similar to the prediction on training data, even the recall score of the evalution is far better. So, the GaussianNB classifer has **good generalization** for the crime dataset."
   ]
  },
  {
   "cell_type": "markdown",
   "metadata": {},
   "source": [
    "\n",
    "#### (2.a.ii) 10 most predictive features for the GaussianNB classifier"
   ]
  },
  {
   "cell_type": "code",
   "execution_count": 15,
   "metadata": {
    "collapsed": false,
    "scrolled": true
   },
   "outputs": [
    {
     "name": "stdout",
     "output_type": "stream",
     "text": [
      "Class-wise Means of the attributes: \n"
     ]
    },
    {
     "data": {
      "text/html": [
       "<div>\n",
       "<table border=\"1\" class=\"dataframe\">\n",
       "  <thead>\n",
       "    <tr style=\"text-align: right;\">\n",
       "      <th></th>\n",
       "      <th>state</th>\n",
       "      <th>fold</th>\n",
       "      <th>population</th>\n",
       "      <th>householdsize</th>\n",
       "      <th>racepctblack</th>\n",
       "      <th>racePctWhite</th>\n",
       "      <th>racePctAsian</th>\n",
       "      <th>racePctHisp</th>\n",
       "      <th>agePct12t21</th>\n",
       "      <th>agePct12t29</th>\n",
       "      <th>...</th>\n",
       "      <th>NumStreet</th>\n",
       "      <th>PctForeignBorn</th>\n",
       "      <th>PctBornSameState</th>\n",
       "      <th>PctSameHouse85</th>\n",
       "      <th>PctSameCity85</th>\n",
       "      <th>PctSameState85</th>\n",
       "      <th>LandArea</th>\n",
       "      <th>PopDens</th>\n",
       "      <th>PctUsePubTrans</th>\n",
       "      <th>LemasPctOfficDrugUn</th>\n",
       "    </tr>\n",
       "    <tr>\n",
       "      <th>highCrime</th>\n",
       "      <th></th>\n",
       "      <th></th>\n",
       "      <th></th>\n",
       "      <th></th>\n",
       "      <th></th>\n",
       "      <th></th>\n",
       "      <th></th>\n",
       "      <th></th>\n",
       "      <th></th>\n",
       "      <th></th>\n",
       "      <th></th>\n",
       "      <th></th>\n",
       "      <th></th>\n",
       "      <th></th>\n",
       "      <th></th>\n",
       "      <th></th>\n",
       "      <th></th>\n",
       "      <th></th>\n",
       "      <th></th>\n",
       "      <th></th>\n",
       "      <th></th>\n",
       "    </tr>\n",
       "  </thead>\n",
       "  <tbody>\n",
       "    <tr>\n",
       "      <th>false</th>\n",
       "      <td>33.004038</td>\n",
       "      <td>5.450875</td>\n",
       "      <td>0.020444</td>\n",
       "      <td>0.480713</td>\n",
       "      <td>0.047699</td>\n",
       "      <td>0.913459</td>\n",
       "      <td>0.132423</td>\n",
       "      <td>0.050269</td>\n",
       "      <td>0.415828</td>\n",
       "      <td>0.46463</td>\n",
       "      <td>...</td>\n",
       "      <td>0.000767</td>\n",
       "      <td>0.161965</td>\n",
       "      <td>0.63996</td>\n",
       "      <td>0.590444</td>\n",
       "      <td>0.629906</td>\n",
       "      <td>0.666097</td>\n",
       "      <td>0.051036</td>\n",
       "      <td>0.176729</td>\n",
       "      <td>0.153742</td>\n",
       "      <td>0.018250</td>\n",
       "    </tr>\n",
       "    <tr>\n",
       "      <th>true</th>\n",
       "      <td>26.116000</td>\n",
       "      <td>5.523200</td>\n",
       "      <td>0.079704</td>\n",
       "      <td>0.453168</td>\n",
       "      <td>0.257408</td>\n",
       "      <td>0.659192</td>\n",
       "      <td>0.166432</td>\n",
       "      <td>0.199856</td>\n",
       "      <td>0.429192</td>\n",
       "      <td>0.51132</td>\n",
       "      <td>...</td>\n",
       "      <td>0.035880</td>\n",
       "      <td>0.247568</td>\n",
       "      <td>0.59024</td>\n",
       "      <td>0.501992</td>\n",
       "      <td>0.624192</td>\n",
       "      <td>0.642776</td>\n",
       "      <td>0.073688</td>\n",
       "      <td>0.266304</td>\n",
       "      <td>0.166496</td>\n",
       "      <td>0.139184</td>\n",
       "    </tr>\n",
       "  </tbody>\n",
       "</table>\n",
       "<p>2 rows × 102 columns</p>\n",
       "</div>"
      ],
      "text/plain": [
       "               state      fold  population  householdsize  racepctblack  \\\n",
       "highCrime                                                                 \n",
       "false      33.004038  5.450875    0.020444       0.480713      0.047699   \n",
       "true       26.116000  5.523200    0.079704       0.453168      0.257408   \n",
       "\n",
       "           racePctWhite  racePctAsian  racePctHisp  agePct12t21  agePct12t29  \\\n",
       "highCrime                                                                      \n",
       "false          0.913459      0.132423     0.050269     0.415828      0.46463   \n",
       "true           0.659192      0.166432     0.199856     0.429192      0.51132   \n",
       "\n",
       "                  ...           NumStreet  PctForeignBorn  PctBornSameState  \\\n",
       "highCrime         ...                                                         \n",
       "false             ...            0.000767        0.161965           0.63996   \n",
       "true              ...            0.035880        0.247568           0.59024   \n",
       "\n",
       "           PctSameHouse85  PctSameCity85  PctSameState85  LandArea   PopDens  \\\n",
       "highCrime                                                                      \n",
       "false            0.590444       0.629906        0.666097  0.051036  0.176729   \n",
       "true             0.501992       0.624192        0.642776  0.073688  0.266304   \n",
       "\n",
       "           PctUsePubTrans  LemasPctOfficDrugUn  \n",
       "highCrime                                       \n",
       "false            0.153742             0.018250  \n",
       "true             0.166496             0.139184  \n",
       "\n",
       "[2 rows x 102 columns]"
      ]
     },
     "execution_count": 15,
     "metadata": {},
     "output_type": "execute_result"
    }
   ],
   "source": [
    "#Finding Normalized Absolute difference of Means between 2 classes of \"highCrime\"\n",
    "\n",
    "#Calcualting the class-wise means of every attribute in the dataframe\n",
    "input_df2_mean = input_df2.groupby('highCrime').mean()\n",
    "print(\"Class-wise Means of the attributes: \")\n",
    "input_df2_mean"
   ]
  },
  {
   "cell_type": "code",
   "execution_count": 16,
   "metadata": {
    "collapsed": false
   },
   "outputs": [
    {
     "name": "stdout",
     "output_type": "stream",
     "text": [
      "Class-wise Standard-deviation of the attributes: \n"
     ]
    },
    {
     "data": {
      "text/html": [
       "<div>\n",
       "<table border=\"1\" class=\"dataframe\">\n",
       "  <thead>\n",
       "    <tr style=\"text-align: right;\">\n",
       "      <th></th>\n",
       "      <th>state</th>\n",
       "      <th>fold</th>\n",
       "      <th>population</th>\n",
       "      <th>householdsize</th>\n",
       "      <th>racepctblack</th>\n",
       "      <th>racePctWhite</th>\n",
       "      <th>racePctAsian</th>\n",
       "      <th>racePctHisp</th>\n",
       "      <th>agePct12t21</th>\n",
       "      <th>agePct12t29</th>\n",
       "      <th>...</th>\n",
       "      <th>NumStreet</th>\n",
       "      <th>PctForeignBorn</th>\n",
       "      <th>PctBornSameState</th>\n",
       "      <th>PctSameHouse85</th>\n",
       "      <th>PctSameCity85</th>\n",
       "      <th>PctSameState85</th>\n",
       "      <th>LandArea</th>\n",
       "      <th>PopDens</th>\n",
       "      <th>PctUsePubTrans</th>\n",
       "      <th>LemasPctOfficDrugUn</th>\n",
       "    </tr>\n",
       "    <tr>\n",
       "      <th>highCrime</th>\n",
       "      <th></th>\n",
       "      <th></th>\n",
       "      <th></th>\n",
       "      <th></th>\n",
       "      <th></th>\n",
       "      <th></th>\n",
       "      <th></th>\n",
       "      <th></th>\n",
       "      <th></th>\n",
       "      <th></th>\n",
       "      <th></th>\n",
       "      <th></th>\n",
       "      <th></th>\n",
       "      <th></th>\n",
       "      <th></th>\n",
       "      <th></th>\n",
       "      <th></th>\n",
       "      <th></th>\n",
       "      <th></th>\n",
       "      <th></th>\n",
       "      <th></th>\n",
       "    </tr>\n",
       "  </thead>\n",
       "  <tbody>\n",
       "    <tr>\n",
       "      <th>false</th>\n",
       "      <td>14.653178</td>\n",
       "      <td>2.865812</td>\n",
       "      <td>0.026123</td>\n",
       "      <td>0.151243</td>\n",
       "      <td>0.075765</td>\n",
       "      <td>0.089176</td>\n",
       "      <td>0.164436</td>\n",
       "      <td>0.091442</td>\n",
       "      <td>0.169803</td>\n",
       "      <td>0.154259</td>\n",
       "      <td>...</td>\n",
       "      <td>0.005994</td>\n",
       "      <td>0.147616</td>\n",
       "      <td>0.190410</td>\n",
       "      <td>0.198365</td>\n",
       "      <td>0.213573</td>\n",
       "      <td>0.200821</td>\n",
       "      <td>0.061674</td>\n",
       "      <td>0.149191</td>\n",
       "      <td>0.211070</td>\n",
       "      <td>0.105931</td>\n",
       "    </tr>\n",
       "    <tr>\n",
       "      <th>true</th>\n",
       "      <td>16.845936</td>\n",
       "      <td>2.877514</td>\n",
       "      <td>0.154860</td>\n",
       "      <td>0.169974</td>\n",
       "      <td>0.286641</td>\n",
       "      <td>0.256820</td>\n",
       "      <td>0.230451</td>\n",
       "      <td>0.270036</td>\n",
       "      <td>0.145730</td>\n",
       "      <td>0.133906</td>\n",
       "      <td>...</td>\n",
       "      <td>0.124912</td>\n",
       "      <td>0.263691</td>\n",
       "      <td>0.210038</td>\n",
       "      <td>0.161748</td>\n",
       "      <td>0.192398</td>\n",
       "      <td>0.196275</td>\n",
       "      <td>0.129100</td>\n",
       "      <td>0.222686</td>\n",
       "      <td>0.239127</td>\n",
       "      <td>0.282900</td>\n",
       "    </tr>\n",
       "  </tbody>\n",
       "</table>\n",
       "<p>2 rows × 102 columns</p>\n",
       "</div>"
      ],
      "text/plain": [
       "               state      fold  population  householdsize  racepctblack  \\\n",
       "highCrime                                                                 \n",
       "false      14.653178  2.865812    0.026123       0.151243      0.075765   \n",
       "true       16.845936  2.877514    0.154860       0.169974      0.286641   \n",
       "\n",
       "           racePctWhite  racePctAsian  racePctHisp  agePct12t21  agePct12t29  \\\n",
       "highCrime                                                                      \n",
       "false          0.089176      0.164436     0.091442     0.169803     0.154259   \n",
       "true           0.256820      0.230451     0.270036     0.145730     0.133906   \n",
       "\n",
       "                  ...           NumStreet  PctForeignBorn  PctBornSameState  \\\n",
       "highCrime         ...                                                         \n",
       "false             ...            0.005994        0.147616          0.190410   \n",
       "true              ...            0.124912        0.263691          0.210038   \n",
       "\n",
       "           PctSameHouse85  PctSameCity85  PctSameState85  LandArea   PopDens  \\\n",
       "highCrime                                                                      \n",
       "false            0.198365       0.213573        0.200821  0.061674  0.149191   \n",
       "true             0.161748       0.192398        0.196275  0.129100  0.222686   \n",
       "\n",
       "           PctUsePubTrans  LemasPctOfficDrugUn  \n",
       "highCrime                                       \n",
       "false            0.211070             0.105931  \n",
       "true             0.239127             0.282900  \n",
       "\n",
       "[2 rows x 102 columns]"
      ]
     },
     "execution_count": 16,
     "metadata": {},
     "output_type": "execute_result"
    }
   ],
   "source": [
    "#Calcualting the class-wise standard-deviation of every attribute in the dataframe\n",
    "input_df2_std = input_df2.groupby('highCrime').std()\n",
    "print(\"Class-wise Standard-deviation of the attributes: \")\n",
    "input_df2_std"
   ]
  },
  {
   "cell_type": "markdown",
   "metadata": {},
   "source": [
    "**Now, we need to calculate $\\frac{|{\\mu_T - \\mu_F}|}{\\sigma_T + \\sigma_F}$ that gives the Normalized Absolute Difference of Means for the feature between the two classes.**"
   ]
  },
  {
   "cell_type": "code",
   "execution_count": 17,
   "metadata": {
    "collapsed": false
   },
   "outputs": [
    {
     "name": "stdout",
     "output_type": "stream",
     "text": [
      "Feature ranking based on measurements:\n",
      "1.) feature 46 [PctKids2Par], Norm_Abs_Diff_Means = 0.809336\n",
      "2.) feature 45 [PctFam2Par], Norm_Abs_Diff_Means = 0.745162\n",
      "3.) feature 5 [racePctWhite], Norm_Abs_Diff_Means = 0.734884\n",
      "4.) feature 52 [PctIlleg], Norm_Abs_Diff_Means = 0.708929\n",
      "5.) feature 42 [FemalePctDiv], Norm_Abs_Diff_Means = 0.693604\n",
      "6.) feature 43 [TotalPctDiv], Norm_Abs_Diff_Means = 0.674282\n",
      "7.) feature 47 [PctYoungKids2Par], Norm_Abs_Diff_Means = 0.664671\n",
      "8.) feature 17 [pctWInvInc], Norm_Abs_Diff_Means = 0.660720\n",
      "9.) feature 48 [PctTeen2Par], Norm_Abs_Diff_Means = 0.642621\n",
      "10.) feature 40 [MalePctDivorce], Norm_Abs_Diff_Means = 0.616534\n"
     ]
    },
    {
     "data": {
      "image/png": "[encoded data removed]",
      "text/plain": [
       "<matplotlib.figure.Figure at 0x211250c0c88>"
      ]
     },
     "metadata": {},
     "output_type": "display_data"
    }
   ],
   "source": [
    "#Preparing the data - Converting the Panda DataFrames into Numpy Arrays\n",
    "input_df2_mean_np = np.array(input_df2_mean)\n",
    "input_df2_std_np = np.array(input_df2_std)\n",
    "\n",
    "#Calculating Normalized Absolute Mean Difference  \n",
    "abs_diff_means = abs(input_df2_mean_np[1] - input_df2_mean_np[0])/(input_df2_std_np[1] + input_df2_std_np[0])\n",
    "\n",
    "#Sorting the calculated values\n",
    "feature_ranks_gNB = np.argsort(abs_diff_means)[::-1]\n",
    "mostPred10features_gNB = feature_ranks_gNB[:10]\n",
    "\n",
    "#Displaying the 10 most predictive features\n",
    "displayTop10Features(input_df2, abs_diff_means, mostPred10features_gNB, 'Norm_Abs_Diff_Means')"
   ]
  },
  {
   "cell_type": "markdown",
   "metadata": {},
   "source": [
    "##### Observation:\n",
    "> We identify the most predictive features based on the measurement of Absolute Difference of Means between each class's feature set. In the results, we see that some features as shortlisted by the decision tree classifier (like \"PctKids2Par\", \"racePctWhite\", etc) are chosen by GaussianNB classifer too.\n",
    "Now, **GaussianNB classifier fundametally assumes that the features are independent**. But, when we see its chosen attributes:\n",
    "* PctKids2Par - Percentage of kids in family housing with two parents\n",
    "* PctFam2Par - Percentage of families (with kids) that are headed by two parents\n",
    "* PctYoungKids2Par - Percent of kids 4 and under in two parent households\n",
    "* PctTeen2Par - Percent of kids age 12-17 in two parent households\n",
    "* TotalPctDiv - Percentage of population who are divorced\n",
    "* FemalePctDiv - Percentage of females who are divorced \n",
    "* MalePctDivorce - Percentage of males who are divorced \n",
    "\n",
    "> We could say that such assumption isn't making sense as most of the main features are inter-related in one or the other way. Hence, though the evaluation results are good for GaussianNB classifier, we can't entirely rely on its prediction.  \n"
   ]
  },
  {
   "cell_type": "markdown",
   "metadata": {},
   "source": [
    "### (2.b) LinearSVC\n",
    ">In this approach, the result is a **hyperplane that separates the classes** in the best way possible. The feature weights, which are nothing but the coefficients given by svm.coef_ , represent the hyperplane, in a way that they represent the coordinates of a vector orthogonal to the hyperplane and also gives the **direction** of the predicted class."
   ]
  },
  {
   "cell_type": "code",
   "execution_count": 18,
   "metadata": {
    "collapsed": false
   },
   "outputs": [
    {
     "data": {
      "text/plain": [
       "LinearSVC(C=1.0, class_weight=None, dual=True, fit_intercept=True,\n",
       "     intercept_scaling=1, loss='squared_hinge', max_iter=1000,\n",
       "     multi_class='ovr', penalty='l2', random_state=None, tol=0.0001,\n",
       "     verbose=0)"
      ]
     },
     "execution_count": 18,
     "metadata": {},
     "output_type": "execute_result"
    }
   ],
   "source": [
    "from sklearn import svm\n",
    "linSVC_Classifier = svm.LinearSVC()\n",
    "linSVC_Classifier.fit(features_df2, target_df2)"
   ]
  },
  {
   "cell_type": "code",
   "execution_count": 19,
   "metadata": {
    "collapsed": false
   },
   "outputs": [
    {
     "name": "stdout",
     "output_type": "stream",
     "text": [
      "\n",
      "LINEAR-SVC CLASSIFIER - PREDICTION RESULTS: \n",
      "\n",
      "Confusion Matrix: \n",
      " [[1027  223]\n",
      " [  98  645]]\n",
      "\n",
      "Accuracy(%): \n",
      " 83.89\n",
      "\n",
      "Presicion(%): \n",
      " 91.29\n",
      "\n",
      "Recall(%): \n",
      " 82.16\n"
     ]
    }
   ],
   "source": [
    "#Prediction with LinearSVC classifier\n",
    "target_linSVC_pred = linSVC_Classifier.predict(features_df2)\n",
    "print(\"\\nLINEAR-SVC CLASSIFIER - PREDICTION RESULTS: \\n\")\n",
    "prediction_metrics(target_df2, target_linSVC_pred)"
   ]
  },
  {
   "cell_type": "markdown",
   "metadata": {},
   "source": [
    "#### (2.b.i) 10-fold Cross-Validation to evaluate the LinearSVC classifier's performance:"
   ]
  },
  {
   "cell_type": "code",
   "execution_count": 20,
   "metadata": {
    "collapsed": false
   },
   "outputs": [
    {
     "name": "stdout",
     "output_type": "stream",
     "text": [
      "\n",
      "LINEAR_SVC CLASSIFIER - CROSS VALIDATION RESULTS: \n",
      "\n"
     ]
    },
    {
     "data": {
      "image/png": "[encoded data removed]",
      "text/plain": [
       "<matplotlib.figure.Figure at 0x211250e7c18>"
      ]
     },
     "metadata": {},
     "output_type": "display_data"
    },
    {
     "name": "stdout",
     "output_type": "stream",
     "text": [
      "10-fold Cross validation (Mean) scores: \n",
      "\n",
      "Accuracy(%): \n",
      " 75.0600502513\n",
      "Precision(%): \n",
      " 78.1952198967\n",
      "Recall(%): \n",
      " 82.88\n"
     ]
    }
   ],
   "source": [
    "print(\"\\nLINEAR_SVC CLASSIFIER - CROSS VALIDATION RESULTS: \\n\")\n",
    "cv10_evalulate(linSVC_Classifier, features_df2, target_df2)"
   ]
  },
  {
   "cell_type": "markdown",
   "metadata": {},
   "source": [
    "##### Observation:\n",
    "> For LinearSVC classifier, we find that both the results (prediction and evaluation) are good. Now, let us find the most predictive features by finding the feature weights."
   ]
  },
  {
   "cell_type": "markdown",
   "metadata": {},
   "source": [
    "#### (2.b.ii) 10 most predictive features for the LinearSVC classifier:"
   ]
  },
  {
   "cell_type": "code",
   "execution_count": 21,
   "metadata": {
    "collapsed": false
   },
   "outputs": [
    {
     "name": "stdout",
     "output_type": "stream",
     "text": [
      "Feature ranking based on measurements:\n",
      "1.) feature 17 [pctWInvInc], Abs_feature_wieghts = 1.750725\n",
      "2.) feature 5 [racePctWhite], Abs_feature_wieghts = 1.118237\n",
      "3.) feature 46 [PctKids2Par], Abs_feature_wieghts = 1.014444\n",
      "4.) feature 66 [PersPerOccupHous], Abs_feature_wieghts = 0.917992\n",
      "5.) feature 86 [RentHighQ], Abs_feature_wieghts = 0.875953\n",
      "6.) feature 40 [MalePctDivorce], Abs_feature_wieghts = 0.852039\n",
      "7.) feature 8 [agePct12t21], Abs_feature_wieghts = 0.836855\n",
      "8.) feature 7 [racePctHisp], Abs_feature_wieghts = 0.833210\n",
      "9.) feature 73 [HousVacant], Abs_feature_wieghts = 0.795263\n",
      "10.) feature 70 [PctPersDenseHous], Abs_feature_wieghts = 0.761796\n"
     ]
    },
    {
     "data": {
      "image/png": "[encoded data removed]",
      "text/plain": [
       "<matplotlib.figure.Figure at 0x211258c74a8>"
      ]
     },
     "metadata": {},
     "output_type": "display_data"
    }
   ],
   "source": [
    "feature_weights = linSVC_Classifier.coef_\n",
    "\n",
    "#Extracting the feature weights into an 1D array\n",
    "feature_weights_1Darr = feature_weights[0, :]\n",
    "abs_feature_weights = abs(feature_weights_1Darr)\n",
    "\n",
    "feature_ranks_linSVC = np.argsort(abs_feature_weights)[::-1]\n",
    "mostPred10features_linSVC = feature_ranks_linSVC[:10]\n",
    "                        \n",
    "#Displaying the 10 most predictive features\n",
    "displayTop10Features(input_df2, abs_feature_weights, mostPred10features_linSVC, 'Abs_feature_wieghts')"
   ]
  },
  {
   "cell_type": "markdown",
   "metadata": {},
   "source": [
    "##### Observation:\n",
    "> Here, compared with Decision tree classifier's results, there are many features that matches for LinearSVC too. "
   ]
  },
  {
   "cell_type": "markdown",
   "metadata": {
    "collapsed": true
   },
   "source": [
    "## 3.) Regression\n",
    "\n",
    "### (3.a) LinearRegression"
   ]
  },
  {
   "cell_type": "code",
   "execution_count": 22,
   "metadata": {
    "collapsed": false
   },
   "outputs": [
    {
     "data": {
      "text/plain": [
       "LinearRegression(copy_X=True, fit_intercept=True, n_jobs=1, normalize=False)"
      ]
     },
     "execution_count": 22,
     "metadata": {},
     "output_type": "execute_result"
    }
   ],
   "source": [
    "from sklearn import linear_model\n",
    "linRegr = linear_model.LinearRegression()\n",
    "\n",
    "#Fitting the Linear regressor, with target as \"ViolentCrimesPerPop\" feature\n",
    "linRegr.fit(features_df2, crime_df['ViolentCrimesPerPop'])"
   ]
  },
  {
   "cell_type": "markdown",
   "metadata": {},
   "source": [
    "#### (3.a.i) Estimated MSE (Mean Square Error) using 10-fold Cross Validation\n",
    "> The MSE tells **how closer a regression line is to a set of data points**. It does this by finding the distances from the points to the regression line (these distances are nothing but the “errors”), squaring them, adding them and finally taking a mean on them."
   ]
  },
  {
   "cell_type": "code",
   "execution_count": 23,
   "metadata": {
    "collapsed": false
   },
   "outputs": [
    {
     "name": "stdout",
     "output_type": "stream",
     "text": [
      "\n",
      "Cross-validation MSE:  0.0199163260696\n"
     ]
    }
   ],
   "source": [
    "from sklearn.model_selection import cross_val_predict\n",
    "from sklearn.metrics import mean_squared_error\n",
    "\n",
    "#Estimation using 10-fold cross validation\n",
    "cv10_linReg_pred = cross_val_predict(linRegr, features_df2, crime_df['ViolentCrimesPerPop'], cv=10) \n",
    "cv10_linReg_mse = mean_squared_error(crime_df['ViolentCrimesPerPop'], cv10_linReg_pred)\n",
    "print(\"\\nCross-validation MSE: \", cv10_linReg_mse)"
   ]
  },
  {
   "cell_type": "markdown",
   "metadata": {},
   "source": [
    "#### (3.a.ii) MSE on the training set"
   ]
  },
  {
   "cell_type": "code",
   "execution_count": 24,
   "metadata": {
    "collapsed": false
   },
   "outputs": [
    {
     "name": "stdout",
     "output_type": "stream",
     "text": [
      "\n",
      "Training-set MSE:  0.0164191185723\n"
     ]
    }
   ],
   "source": [
    "#Testing the regressor with the training features\n",
    "linReg_pred = linRegr.predict(features_df2)\n",
    "\n",
    "#Calculating MSE of the Regressor's prediction\n",
    "linRegr_mse = mean_squared_error(crime_df['ViolentCrimesPerPop'], linReg_pred)\n",
    "print(\"\\nTraining-set MSE: \", linRegr_mse)"
   ]
  },
  {
   "cell_type": "markdown",
   "metadata": {},
   "source": [
    "##### Observation:\n",
    "> It is found that that MSE (Mean Square Error) on training set prediction and evaluation aren't far. Also, the MSE value of cross-validation is so low (1.9%). As the value measures the quality of the estimator (lower the MSE values, better the estimation), we can trust this estimator."
   ]
  },
  {
   "cell_type": "markdown",
   "metadata": {},
   "source": [
    "#### (3.a.iii) Most predictive features of high crime and low crime prediction\n",
    "The Regression coefficients of the Linear Regression equation helps us to extract the most predictive featurues."
   ]
  },
  {
   "cell_type": "code",
   "execution_count": 25,
   "metadata": {
    "collapsed": false
   },
   "outputs": [
    {
     "name": "stdout",
     "output_type": "stream",
     "text": [
      "\n",
      "LINEAR REGRESSION - HIGH CRIME FEATURES:\n",
      "\n",
      "Feature ranking based on measurements:\n",
      "1.) feature 75 [PctHousOwnOcc], Reg.Coefficient = 0.574399\n",
      "2.) feature 66 [PersPerOccupHous], Reg.Coefficient = 0.564192\n",
      "3.) feature 40 [MalePctDivorce], Reg.Coefficient = 0.454779\n",
      "4.) feature 60 [PctRecImmig8], Reg.Coefficient = 0.390671\n",
      "5.) feature 87 [MedRent], Reg.Coefficient = 0.344240\n",
      "6.) feature 21 [medFamInc], Reg.Coefficient = 0.279389\n",
      "7.) feature 82 [OwnOccMedVal], Reg.Coefficient = 0.269849\n",
      "8.) feature 35 [PctEmploy], Reg.Coefficient = 0.263982\n",
      "9.) feature 41 [MalePctNevMarr], Reg.Coefficient = 0.217140\n",
      "10.) feature 70 [PctPersDenseHous], Reg.Coefficient = 0.205750\n"
     ]
    },
    {
     "data": {
      "image/png": "[encoded data removed]",
      "text/plain": [
       "<matplotlib.figure.Figure at 0x211258fb2e8>"
      ]
     },
     "metadata": {},
     "output_type": "display_data"
    },
    {
     "name": "stdout",
     "output_type": "stream",
     "text": [
      "\n",
      "-------------------------------------------------------\n",
      "\n",
      "\n",
      "LINEAR REGRESSION - LOW CRIME FEATURES:\n",
      "\n",
      "Feature ranking based on measurements:\n",
      "1.) feature 59 [PctRecImmig5], Reg.Coefficient = -0.207035\n",
      "2.) feature 84 [RentLowQ], Reg.Coefficient = -0.228495\n",
      "3.) feature 68 [PersPerRentOccHous], Reg.Coefficient = -0.237893\n",
      "4.) feature 9 [agePct12t29], Reg.Coefficient = -0.237988\n",
      "5.) feature 12 [numbUrban], Reg.Coefficient = -0.263206\n",
      "6.) feature 46 [PctKids2Par], Reg.Coefficient = -0.284324\n",
      "7.) feature 23 [whitePerCap], Reg.Coefficient = -0.350161\n",
      "8.) feature 81 [OwnOccLowQuart], Reg.Coefficient = -0.393367\n",
      "9.) feature 43 [TotalPctDiv], Reg.Coefficient = -0.537341\n",
      "10.) feature 69 [PctPersOwnOccup], Reg.Coefficient = -0.702546\n"
     ]
    },
    {
     "data": {
      "image/png": "[encoded data removed]",
      "text/plain": [
       "<matplotlib.figure.Figure at 0x21125c27240>"
      ]
     },
     "metadata": {},
     "output_type": "display_data"
    }
   ],
   "source": [
    "linReg_coeff_vals = linRegr.coef_\n",
    "\n",
    "feature_ranks_linReg = np.argsort(linReg_coeff_vals)[::-1]\n",
    "mostPred10Features_HighCrime = feature_ranks_linReg[:10]\n",
    "mostPred10Features_LowCrime = feature_ranks_linReg[-10:]\n",
    "\n",
    "print(\"\\nLINEAR REGRESSION - HIGH CRIME FEATURES:\\n\")\n",
    "displayTop10Features(input_df2, linReg_coeff_vals, mostPred10Features_HighCrime, 'Reg.Coefficient')\n",
    "\n",
    "print(\"\\n-------------------------------------------------------\\n\")\n",
    "\n",
    "print(\"\\nLINEAR REGRESSION - LOW CRIME FEATURES:\\n\")\n",
    "displayTop10Features(input_df2, linReg_coeff_vals, mostPred10Features_LowCrime, 'Reg.Coefficient')"
   ]
  },
  {
   "cell_type": "markdown",
   "metadata": {},
   "source": [
    "##### Observation:\n",
    "> There are some features stated in the high crime area which are as same as in Decision tree classifier results. But, here features like \"PctKids2Par\", \"TotalPctDiv\" are identified as Low-crime indicators. The difference is that the decision trees try to **classify** the data and it shortlists a set of attributes that assist it in achieving that, whereas here, in **regression**, we try to estimate values of the crime rate. It is obvious."
   ]
  },
  {
   "cell_type": "markdown",
   "metadata": {},
   "source": [
    "### (3.b) Ridge Regression\n",
    "> Ridge regression performs \"L2 regularization\". **Regularization** improves the conditioning of the problem and reduces the variance of the estimates. In the algorithm function, the strength of the regularization is given by the **\"alpha\"** factor."
   ]
  },
  {
   "cell_type": "code",
   "execution_count": 26,
   "metadata": {
    "collapsed": false
   },
   "outputs": [
    {
     "data": {
      "text/plain": [
       "RidgeCV(alphas=array([  1.00000e+01,   1.00000e+00,   1.00000e-01,   1.00000e-02,\n",
       "         1.00000e-03]),\n",
       "    cv=None, fit_intercept=True, gcv_mode=None, normalize=False,\n",
       "    scoring=None, store_cv_values=True)"
      ]
     },
     "execution_count": 26,
     "metadata": {},
     "output_type": "execute_result"
    }
   ],
   "source": [
    "from sklearn.linear_model import Ridge, RidgeCV\n",
    "\n",
    "alpha_vals = np.array([10, 1, 0.1, 0.01, 0.001])\n",
    "ridgeRegrCV = RidgeCV(alphas=alpha_vals, store_cv_values=True)\n",
    "\n",
    "ridgeRegrCV.fit(features_df2, crime_df['ViolentCrimesPerPop'])"
   ]
  },
  {
   "cell_type": "code",
   "execution_count": 27,
   "metadata": {
    "collapsed": false
   },
   "outputs": [
    {
     "data": {
      "text/plain": [
       "1.0"
      ]
     },
     "execution_count": 27,
     "metadata": {},
     "output_type": "execute_result"
    }
   ],
   "source": [
    "ridgeRegrCV.alpha_"
   ]
  },
  {
   "cell_type": "markdown",
   "metadata": {},
   "source": [
    "##### Observation: \n",
    "> Thus RidgeCV regression finds the best value of alpha as ''1\", which we use to model a Ridge regressor."
   ]
  },
  {
   "cell_type": "code",
   "execution_count": 28,
   "metadata": {
    "collapsed": false
   },
   "outputs": [
    {
     "data": {
      "text/plain": [
       "Ridge(alpha=1.0, copy_X=True, fit_intercept=True, max_iter=None,\n",
       "   normalize=False, random_state=None, solver='auto', tol=0.001)"
      ]
     },
     "execution_count": 28,
     "metadata": {},
     "output_type": "execute_result"
    }
   ],
   "source": [
    "ridgeRegr = Ridge(alpha=1.0)\n",
    "\n",
    "ridgeRegr.fit(features_df2, crime_df['ViolentCrimesPerPop'])"
   ]
  },
  {
   "cell_type": "markdown",
   "metadata": {},
   "source": [
    "#### (3.b.i) Estimated MSE of the model using 10-fold CV"
   ]
  },
  {
   "cell_type": "code",
   "execution_count": 29,
   "metadata": {
    "collapsed": false
   },
   "outputs": [
    {
     "name": "stdout",
     "output_type": "stream",
     "text": [
      "\n",
      "Cross-validation MSE:  0.0195624794757\n"
     ]
    }
   ],
   "source": [
    "#Estimation using 10-fold cross validation\n",
    "cv10_ridgeReg_pred = cross_val_predict(ridgeRegr, features_df2, crime_df['ViolentCrimesPerPop'], cv=10) \n",
    "cv10_ridgeReg_mse = mean_squared_error(crime_df['ViolentCrimesPerPop'], cv10_ridgeReg_pred)\n",
    "print(\"\\nCross-validation MSE: \", cv10_ridgeReg_mse)"
   ]
  },
  {
   "cell_type": "markdown",
   "metadata": {},
   "source": [
    "#### (3.b.ii) MSE on the training set"
   ]
  },
  {
   "cell_type": "code",
   "execution_count": 30,
   "metadata": {
    "collapsed": false
   },
   "outputs": [
    {
     "name": "stdout",
     "output_type": "stream",
     "text": [
      "\n",
      "Training-set MSE:  0.0195624794757\n"
     ]
    }
   ],
   "source": [
    "ridgeReg_pred = ridgeRegr.predict(features_df2)\n",
    "ridgeReg_mse = mean_squared_error(crime_df['ViolentCrimesPerPop'], cv10_ridgeReg_pred)\n",
    "print(\"\\nTraining-set MSE: \", ridgeReg_mse)"
   ]
  },
  {
   "cell_type": "markdown",
   "metadata": {},
   "source": [
    "#### (3.b.iv)\n",
    "##### Observation:\n",
    "> As we can see, the regularization as done by the ridge regressor resulted in achieving the same MSE on both prediction and evaluation. Thus the problem of **overfitting**, as possible in Linear Regression algorithm, is prevented."
   ]
  },
  {
   "cell_type": "markdown",
   "metadata": {},
   "source": [
    "### (3.c) Quadratic Polynomial Regression using Polynomial features"
   ]
  },
  {
   "cell_type": "code",
   "execution_count": 31,
   "metadata": {
    "collapsed": false
   },
   "outputs": [
    {
     "name": "stdout",
     "output_type": "stream",
     "text": [
      "The shape of the new dataframe is:  (1993, 5356)\n"
     ]
    }
   ],
   "source": [
    "from sklearn.preprocessing import PolynomialFeatures\n",
    "quadraticPoly = PolynomialFeatures(2)\n",
    "\n",
    "polyFeatures = quadraticPoly.fit_transform(features_df2)\n",
    "print(\"The shape of the new dataframe is: \", np.shape(polyFeatures))"
   ]
  },
  {
   "cell_type": "code",
   "execution_count": 32,
   "metadata": {
    "collapsed": false
   },
   "outputs": [
    {
     "data": {
      "text/plain": [
       "LinearRegression(copy_X=True, fit_intercept=True, n_jobs=1, normalize=False)"
      ]
     },
     "execution_count": 32,
     "metadata": {},
     "output_type": "execute_result"
    }
   ],
   "source": [
    "linRegr2 = linear_model.LinearRegression()\n",
    "linRegr2.fit(polyFeatures, crime_df['ViolentCrimesPerPop'])"
   ]
  },
  {
   "cell_type": "markdown",
   "metadata": {},
   "source": [
    "#### (3.c.i) Estimated MSE under CV-10:"
   ]
  },
  {
   "cell_type": "code",
   "execution_count": 33,
   "metadata": {
    "collapsed": false
   },
   "outputs": [
    {
     "name": "stdout",
     "output_type": "stream",
     "text": [
      "\n",
      "The CV-10 MSE is:  0.146410199036\n"
     ]
    }
   ],
   "source": [
    "cv10_linRegr2_pred = cross_val_predict(linRegr2, polyFeatures, crime_df['ViolentCrimesPerPop'], cv=10) \n",
    "cv10_linRegr2_mse = mean_squared_error(crime_df['ViolentCrimesPerPop'], cv10_linRegr2_pred)\n",
    "print(\"\\nThe CV-10 MSE is: \", cv10_linRegr2_mse)"
   ]
  },
  {
   "cell_type": "markdown",
   "metadata": {},
   "source": [
    "#### (3.c.i) Training set MSE:"
   ]
  },
  {
   "cell_type": "code",
   "execution_count": 34,
   "metadata": {
    "collapsed": false
   },
   "outputs": [
    {
     "name": "stdout",
     "output_type": "stream",
     "text": [
      "\n",
      "The Training-set MSE is:  2.605116384e-25\n"
     ]
    }
   ],
   "source": [
    "#Testing the regressor with the polynomial training features\n",
    "linReg2_pred = linRegr2.predict(polyFeatures)\n",
    "\n",
    "#Calculating MSE of the Regressor's prediction\n",
    "linRegr2_mse = mean_squared_error(crime_df['ViolentCrimesPerPop'], linReg2_pred)\n",
    "print(\"\\nThe Training-set MSE is: \", linRegr2_mse)"
   ]
  },
  {
   "cell_type": "markdown",
   "metadata": {},
   "source": [
    "#### (3.c.iii)\n",
    "##### Observation:\n",
    "> We see that Training-set MSE (2.60e-25) and CV-10 MSE (0.14) are **closer to 0**. The values are lesser than the linear models for the problem we saw before. Hence the estimation will be better when we implement Quadratic Polynomial Regression using Polynomial features."
   ]
  },
  {
   "cell_type": "markdown",
   "metadata": {},
   "source": [
    "## 4.) Dirty data"
   ]
  },
  {
   "cell_type": "code",
   "execution_count": 35,
   "metadata": {
    "collapsed": false
   },
   "outputs": [
    {
     "name": "stdout",
     "output_type": "stream",
     "text": [
      "Dataframe Dimensions:  (1994, 128)\n"
     ]
    }
   ],
   "source": [
    "#Creating a dataframe from the given CSV file\n",
    "crime_dirty_df = pd.read_csv(\"C:\\\\Users\\\\Chandra Balaji\\\\Desktop\\\\Notebooks\\\\datasets\\\\communities-crime-full.csv\")\n",
    "print(\"Dataframe Dimensions: \", crime_dirty_df.shape)"
   ]
  },
  {
   "cell_type": "code",
   "execution_count": 36,
   "metadata": {
    "collapsed": false
   },
   "outputs": [
    {
     "name": "stdout",
     "output_type": "stream",
     "text": [
      "\n",
      "The feature values of the dataset: \n",
      " [[8 '?' '?' ..., '0.5' 0.32 '0.14']\n",
      " [53 '?' '?' ..., '?' 0.0 '?']\n",
      " [24 '?' '?' ..., '?' 0.0 '?']\n",
      " ..., \n",
      " [9 '9' '80070' ..., '0' 0.91 '0.28']\n",
      " [25 '17' '72600' ..., '0' 0.22 '0.18']\n",
      " [6 '?' '?' ..., '0.5' 1.0 '0.13']]\n"
     ]
    }
   ],
   "source": [
    "#Adding a field \"highCrime\" that has the classfied results\n",
    "crime_dirty_df['highCrime'] = np.where(crime_dirty_df['ViolentCrimesPerPop'] > 0.1, 'true', 'false')\n",
    "\n",
    "#Excluding the crime rate field \"ViolentCrimesPerPop\" from the dataset\n",
    "input_dirty_df = crime_dirty_df.drop(['ViolentCrimesPerPop','communityname'], axis=1)\n",
    "features_dirty = input_dirty_df.values[:, :-1]\n",
    "target_dirty = crime_dirty_df.values[:,-1]\n",
    "\n",
    "print(\"\\nThe feature values of the dataset: \\n\", features_dirty)"
   ]
  },
  {
   "cell_type": "markdown",
   "metadata": {},
   "source": [
    "##### Observation:  \n",
    "> The full dataset has various attributes that contain missing values denoted by the symbol **\"?\"**, which is reflected in the above output. Such values in the dataset is incompatible with scikit-learn estimators. A basic strategy to use such incomplete datasets is to discard entire rows and/or columns containing missing values. However, we may lose data that are valuable. A better strategy is to **impute/infer the missing values.**  \n",
    "\n",
    ">Before infering the missing values we need to convert the \"?\" strings in the dataset into **\"NaN\"** for the *Imputer* Preprocessing function of *sklearn* library to work correctly on the dataset."
   ]
  },
  {
   "cell_type": "code",
   "execution_count": 37,
   "metadata": {
    "collapsed": false
   },
   "outputs": [],
   "source": [
    "#Converting the missing values \"?\" as \"NaN\"\n",
    "features_dirty = pd.DataFrame(features_dirty)\n",
    "NaN_features = features_dirty.replace(to_replace = \"?\", value = \"NaN\")\n",
    "\n",
    "#Imputing the Missing values in the dataset. We use \"mean\" value strategy\n",
    "from sklearn.preprocessing import Imputer\n",
    "imputer = Imputer(missing_values=\"NaN\", strategy=\"most_frequent\" , axis=0)\n",
    "tx_features = imputer.fit_transform(NaN_features)"
   ]
  },
  {
   "cell_type": "code",
   "execution_count": 38,
   "metadata": {
    "collapsed": false
   },
   "outputs": [
    {
     "data": {
      "text/plain": [
       "DecisionTreeClassifier(class_weight=None, criterion='gini', max_depth=5,\n",
       "            max_features=None, max_leaf_nodes=None,\n",
       "            min_impurity_split=1e-07, min_samples_leaf=5,\n",
       "            min_samples_split=2, min_weight_fraction_leaf=0.0,\n",
       "            presort=False, random_state=100, splitter='best')"
      ]
     },
     "execution_count": 38,
     "metadata": {},
     "output_type": "execute_result"
    }
   ],
   "source": [
    "#Invoking the Decision Tree Classifier with \"Gini\" as the quality measure\n",
    "DT_Classifier2 = tree.DecisionTreeClassifier(criterion = 'gini', random_state=100, max_depth=5, min_samples_leaf=5)\n",
    "DT_Classifier2.fit(tx_features, target_dirty)"
   ]
  },
  {
   "cell_type": "code",
   "execution_count": 39,
   "metadata": {
    "collapsed": false
   },
   "outputs": [
    {
     "name": "stdout",
     "output_type": "stream",
     "text": [
      "\n",
      "DECISION TREE CLASSIFIER WITH DIRTY DATA - PREDICTION RESULTS:\n",
      "\n",
      "Confusion Matrix: \n",
      " [[1105  146]\n",
      " [ 109  634]]\n",
      "\n",
      "Accuracy(%): \n",
      " 87.21\n",
      "\n",
      "Presicion(%): \n",
      " 91.02\n",
      "\n",
      "Recall(%): \n",
      " 88.33\n"
     ]
    }
   ],
   "source": [
    "#Prediction with Decision Tree classifier\n",
    "DT_dirty_pred = DT_Classifier2.predict(tx_features)\n",
    "\n",
    "print(\"\\nDECISION TREE CLASSIFIER WITH DIRTY DATA - PREDICTION RESULTS:\\n\")\n",
    "prediction_metrics(target_dirty, DT_dirty_pred)"
   ]
  },
  {
   "cell_type": "code",
   "execution_count": 40,
   "metadata": {
    "collapsed": false
   },
   "outputs": [
    {
     "name": "stdout",
     "output_type": "stream",
     "text": [
      "Feature ranking based on measurements:\n",
      "1.) feature 48 [PctKids2Par], Gini Importance = 0.596414\n",
      "2.) feature 7 [racePctWhite], Gini Importance = 0.143753\n",
      "3.) feature 9 [racePctHisp], Gini Importance = 0.074979\n",
      "4.) feature 75 [HousVacant], Gini Importance = 0.016443\n",
      "5.) feature 2 [community], Gini Importance = 0.016350\n",
      "6.) feature 30 [HispPerCap], Gini Importance = 0.014902\n",
      "7.) feature 34 [PctNotHSGrad], Gini Importance = 0.013153\n",
      "8.) feature 89 [MedRent], Gini Importance = 0.011361\n",
      "9.) feature 79 [PctVacMore6Mos], Gini Importance = 0.010324\n",
      "10.) feature 45 [TotalPctDiv], Gini Importance = 0.010059\n"
     ]
    },
    {
     "data": {
      "image/png": "[encoded data removed]",
      "text/plain": [
       "<matplotlib.figure.Figure at 0x2112371eba8>"
      ]
     },
     "metadata": {},
     "output_type": "display_data"
    },
    {
     "name": "stdout",
     "output_type": "stream",
     "text": [
      "Feature ranking based on measurements:\n",
      "1.) feature 47 [PctKids2Par], Gini Importance = 0.665281\n",
      "2.) feature 6 [racePctWhite], Gini Importance = 0.155528\n",
      "3.) feature 8 [racePctHisp], Gini Importance = 0.084692\n",
      "4.) feature 74 [HousVacant], Gini Importance = 0.018573\n",
      "5.) feature 29 [HispPerCap], Gini Importance = 0.016833\n",
      "6.) feature 88 [MedRent], Gini Importance = 0.012833\n",
      "7.) feature 78 [PctVacMore6Mos], Gini Importance = 0.011662\n",
      "8.) feature 44 [TotalPctDiv], Gini Importance = 0.011362\n",
      "9.) feature 42 [MalePctNevMarr], Gini Importance = 0.009494\n",
      "10.) feature 0 [state], Gini Importance = 0.008023\n"
     ]
    },
    {
     "data": {
      "image/png": "[encoded data removed]",
      "text/plain": [
       "<matplotlib.figure.Figure at 0x211235ffb38>"
      ]
     },
     "metadata": {},
     "output_type": "display_data"
    }
   ],
   "source": [
    "#Extracting the feature importances established by the classifier\n",
    "f_importances2 = DT_Classifier2.feature_importances_\n",
    "feature_ranks_DT2 = np.argsort(f_importances2)[::-1]\n",
    "\n",
    "#Shortlisting the top 10 features chosen by the classifier\n",
    "mostPred10Features_DT2 = feature_ranks_DT2[:10]\n",
    "displayTop10Features(input_dirty_df, f_importances2, mostPred10Features_DT2, 'Gini Importance')\n",
    "displayTop10Features(input_df, f_importances, mostPred10Features_DT, 'Gini Importance')"
   ]
  },
  {
   "cell_type": "code",
   "execution_count": 41,
   "metadata": {
    "collapsed": false
   },
   "outputs": [
    {
     "name": "stdout",
     "output_type": "stream",
     "text": [
      "\n",
      "DECISION TREE CLASSIFIER ON DIRTY DATASET - CROSS VALIDATION RESULTS: \n",
      "\n"
     ]
    },
    {
     "data": {
      "image/png": "[encoded data removed]",
      "text/plain": [
       "<matplotlib.figure.Figure at 0x21125961828>"
      ]
     },
     "metadata": {},
     "output_type": "display_data"
    },
    {
     "name": "stdout",
     "output_type": "stream",
     "text": [
      "10-fold Cross validation (Mean) scores: \n",
      "\n",
      "Accuracy(%): \n",
      " 71.9944723618\n",
      "Precision(%): \n",
      " 83.0490133993\n",
      "Recall(%): \n",
      " 78.16\n"
     ]
    }
   ],
   "source": [
    "print(\"\\nDECISION TREE CLASSIFIER ON DIRTY DATASET - CROSS VALIDATION RESULTS: \\n\")\n",
    "cv10_evalulate(linSVC_Classifier, features_df2, target_df2)"
   ]
  },
  {
   "cell_type": "markdown",
   "metadata": {},
   "source": [
    "## 6.) Additional Analysis for \"Extra Credit\"\n",
    "\n",
    "### (6.b) SVM classification using Radial Basis Function (RBF) kernel:"
   ]
  },
  {
   "cell_type": "code",
   "execution_count": 42,
   "metadata": {
    "collapsed": false
   },
   "outputs": [
    {
     "data": {
      "text/plain": [
       "SVC(C=1.0, cache_size=200, class_weight=None, coef0=0.0,\n",
       "  decision_function_shape=None, degree=3, gamma='auto', kernel='rbf',\n",
       "  max_iter=-1, probability=False, random_state=None, shrinking=True,\n",
       "  tol=0.001, verbose=False)"
      ]
     },
     "execution_count": 42,
     "metadata": {},
     "output_type": "execute_result"
    }
   ],
   "source": [
    "svmRbf_Classifier = svm.SVC() #defaul kernel = 'rbf'\n",
    "svmRbf_Classifier.fit(features_df2, target_df2)"
   ]
  },
  {
   "cell_type": "code",
   "execution_count": 43,
   "metadata": {
    "collapsed": false
   },
   "outputs": [
    {
     "name": "stdout",
     "output_type": "stream",
     "text": [
      "\n",
      "SVM CLASSIFIER WITH 'RBF' KERNEL - PREDICTION RESULTS:\n",
      "\n",
      "Confusion Matrix: \n",
      " [[1125  125]\n",
      " [ 227  516]]\n",
      "\n",
      "Accuracy(%): \n",
      " 82.34\n",
      "\n",
      "Presicion(%): \n",
      " 83.21\n",
      "\n",
      "Recall(%): \n",
      " 90.0\n",
      "\n",
      "EVALUATION OF SVM CLASSIFIER THAT USES \"RBF\" KERNEL: \n",
      "\n"
     ]
    },
    {
     "data": {
      "image/png": "[encoded data removed]",
      "text/plain": [
       "<matplotlib.figure.Figure at 0x21123576b00>"
      ]
     },
     "metadata": {},
     "output_type": "display_data"
    },
    {
     "name": "stdout",
     "output_type": "stream",
     "text": [
      "10-fold Cross validation (Mean) scores: \n",
      "\n",
      "Accuracy(%): \n",
      " 58.6994974874\n",
      "Precision(%): \n",
      " 69.9327519357\n",
      "Recall(%): \n",
      " 65.92\n"
     ]
    }
   ],
   "source": [
    "svmRbf_pred = svmRbf_Classifier.predict(features_df2)\n",
    "\n",
    "print(\"\\nSVM CLASSIFIER WITH 'RBF' KERNEL - PREDICTION RESULTS:\\n\")\n",
    "prediction_metrics(target_df2, svmRbf_pred)\n",
    "\n",
    "print(\"\\nEVALUATION OF SVM CLASSIFIER THAT USES \\\"RBF\\\" KERNEL: \\n\")\n",
    "cv10_evalulate(svmRbf_Classifier, features_df2, target_df2)"
   ]
  },
  {
   "cell_type": "markdown",
   "metadata": {},
   "source": [
    "##### Observation:\n",
    "> Comparing Prediction results and Evaluation results, we find that though the SVM classifier (with 'rbf' kernel) gives good metrics with the training data, it scores poor when it comes to generalization, with accuracy falling down to **58.69%!** So, we can't considerit as a good candidate for our analysis."
   ]
  },
  {
   "cell_type": "markdown",
   "metadata": {},
   "source": [
    "\n",
    "###  Random Forest Classifier:"
   ]
  },
  {
   "cell_type": "code",
   "execution_count": 44,
   "metadata": {
    "collapsed": false
   },
   "outputs": [
    {
     "data": {
      "text/plain": [
       "RandomForestClassifier(bootstrap=True, class_weight=None, criterion='gini',\n",
       "            max_depth=None, max_features='auto', max_leaf_nodes=None,\n",
       "            min_impurity_split=1e-07, min_samples_leaf=1,\n",
       "            min_samples_split=2, min_weight_fraction_leaf=0.0,\n",
       "            n_estimators=10, n_jobs=1, oob_score=False, random_state=None,\n",
       "            verbose=0, warm_start=False)"
      ]
     },
     "execution_count": 44,
     "metadata": {},
     "output_type": "execute_result"
    }
   ],
   "source": [
    "from sklearn.ensemble import RandomForestClassifier\n",
    "rndFrst_Classifier = RandomForestClassifier() #Default: n_instances = 10\n",
    "rndFrst_Classifier.fit(features_df2, target_df2)"
   ]
  },
  {
   "cell_type": "code",
   "execution_count": 45,
   "metadata": {
    "collapsed": false
   },
   "outputs": [
    {
     "name": "stdout",
     "output_type": "stream",
     "text": [
      "\n",
      "SVM CLASSIFIER WITH 'RBF' KERNEL - PREDICTION RESULTS:\n",
      "\n",
      "Confusion Matrix: \n",
      " [[1235   15]\n",
      " [   2  741]]\n",
      "\n",
      "Accuracy(%): \n",
      " 99.15\n",
      "\n",
      "Presicion(%): \n",
      " 99.84\n",
      "\n",
      "Recall(%): \n",
      " 98.8\n",
      "\n",
      "EVALUATION OF SVM CLASSIFIER THAT USES \"RBF\" KERNEL: \n",
      "\n"
     ]
    },
    {
     "data": {
      "image/png": "[encoded data removed]",
      "text/plain": [
       "<matplotlib.figure.Figure at 0x2112d069fd0>"
      ]
     },
     "metadata": {},
     "output_type": "display_data"
    },
    {
     "name": "stdout",
     "output_type": "stream",
     "text": [
      "10-fold Cross validation (Mean) scores: \n",
      "\n",
      "Accuracy(%): \n",
      " 78.8216080402\n",
      "Precision(%): \n",
      " 83.8413284955\n",
      "Recall(%): \n",
      " 81.36\n"
     ]
    }
   ],
   "source": [
    "rndFrst_pred = rndFrst_Classifier.predict(features_df2)\n",
    "\n",
    "print(\"\\nSVM CLASSIFIER WITH 'RBF' KERNEL - PREDICTION RESULTS:\\n\")\n",
    "prediction_metrics(target_df2, rndFrst_pred)\n",
    "\n",
    "print(\"\\nEVALUATION OF SVM CLASSIFIER THAT USES \\\"RBF\\\" KERNEL: \\n\")\n",
    "cv10_evalulate(rndFrst_Classifier, features_df2, target_df2)"
   ]
  },
  {
   "cell_type": "markdown",
   "metadata": {},
   "source": [
    "##### Observation:\n",
    "> We can observe that not just the performance of **RandomForest classifier** on the training set is very good, it's evaluation score also is appreciable. RandomForest is an ensemble method that works by introducing randomness in the classifier construction. The prediction of the ensemble is given as the averaged prediction of the individual classifiers. Since it is **averaging out the result**, we could rely on it's performance and choose it among others."
   ]
  },
  {
   "cell_type": "code",
   "execution_count": 46,
   "metadata": {
    "collapsed": false
   },
   "outputs": [
    {
     "name": "stdout",
     "output_type": "stream",
     "text": [
      "Feature ranking based on measurements:\n",
      "1.) feature 46 [PctKids2Par], Feature Importance = 0.091499\n",
      "2.) feature 42 [FemalePctDiv], Feature Importance = 0.067590\n",
      "3.) feature 51 [NumIlleg], Feature Importance = 0.046721\n",
      "4.) feature 43 [TotalPctDiv], Feature Importance = 0.040396\n",
      "5.) feature 29 [NumUnderPov], Feature Importance = 0.031969\n",
      "6.) feature 45 [PctFam2Par], Feature Importance = 0.030775\n",
      "7.) feature 70 [PctPersDenseHous], Feature Importance = 0.028880\n",
      "8.) feature 69 [PctPersOwnOccup], Feature Importance = 0.028063\n",
      "9.) feature 52 [PctIlleg], Feature Importance = 0.024184\n",
      "10.) feature 5 [racePctWhite], Feature Importance = 0.023161\n"
     ]
    },
    {
     "data": {
      "image/png": "[encoded data removed]",
      "text/plain": [
       "<matplotlib.figure.Figure at 0x2112d100a90>"
      ]
     },
     "metadata": {},
     "output_type": "display_data"
    }
   ],
   "source": [
    "#Extracting the feature importances established by the classifier\n",
    "f_importances_rndFrst = rndFrst_Classifier.feature_importances_\n",
    "feature_ranks_rndFrst = np.argsort(f_importances_rndFrst)[::-1]\n",
    "\n",
    "#Shortlisting the top 10 features chosen by the classifier\n",
    "mostPred10Features_rndFrst = feature_ranks_rndFrst[:10]\n",
    "displayTop10Features(input_df2, f_importances_rndFrst, mostPred10Features_rndFrst, 'Feature Importance')"
   ]
  },
  {
   "cell_type": "markdown",
   "metadata": {},
   "source": [
    "##### Observation:\n",
    "> We find that some features (MalePctNevMarr, TotalPctDiv, PctKids2Par, racePctWhite) which factors in the decision tree results arise in RandonForest classifier's prediction also. In adddition, this classifier prioritizes other attributes like \"PctWorkMomYoungKids\", \"householdsize\", etc."
   ]
  },
  {
   "cell_type": "markdown",
   "metadata": {},
   "source": [
    "### (6.c) Combining the given dataset with climate data:\n",
    ">**Data:** Average Annual State Temperatures  \n",
    "**Source:** https://www.currentresults.com/Weather/US/average-annual-state-temperatures.php.  \n",
    "\n",
    "[**NOTE:** As the given crime dataset has 56 states and the climate data exists only for **50 states**, the samples belonging to the state numbers 51 to 56 are deleted while adding the climate attribute. In this operation, the final data set sample size has been reduced from 1993 to **1839**.]"
   ]
  },
  {
   "cell_type": "code",
   "execution_count": 47,
   "metadata": {
    "collapsed": false
   },
   "outputs": [
    {
     "name": "stdout",
     "output_type": "stream",
     "text": [
      "Dataframe Dimensions:  (1839, 105)\n"
     ]
    },
    {
     "data": {
      "text/plain": [
       "DecisionTreeClassifier(class_weight=None, criterion='gini', max_depth=5,\n",
       "            max_features=None, max_leaf_nodes=None,\n",
       "            min_impurity_split=1e-07, min_samples_leaf=5,\n",
       "            min_samples_split=2, min_weight_fraction_leaf=0.0,\n",
       "            presort=False, random_state=100, splitter='best')"
      ]
     },
     "execution_count": 47,
     "metadata": {},
     "output_type": "execute_result"
    }
   ],
   "source": [
    "#Creating a dataframe from the given CSV file has a newly added feature \"AnnualAvgTemp\"\n",
    "crime_df3 = pd.read_csv(\"C:\\\\Users\\\\Chandra Balaji\\\\Desktop\\\\Notebooks\\\\datasets\\\\communities-crime-clean_addedClimateField.csv\")\n",
    "print(\"Dataframe Dimensions: \", crime_df3.shape)\n",
    "\n",
    "#Adding a field \"highCrime\" that has the classfied results\n",
    "crime_df3['highCrime'] = np.where(crime_df3['ViolentCrimesPerPop'] > 0.1, 'true', 'false')\n",
    "\n",
    "#Excluding the crime rate field \"ViolentCrimesPerPop\" from the dataset\n",
    "input_df3 = crime_df.drop(['ViolentCrimesPerPop','communityname'], axis=1)\n",
    "\n",
    "#Defining the training attributes and labels for the classifier to learn\n",
    "features_df3 = input_df3.values[:, :-1]\n",
    "target_df3 = input_df3.values[:,-1]\n",
    "\n",
    "#Invoking the Decision Tree Classifier with \"Gini\" as the quality measure\n",
    "DT_Classifier3 = tree.DecisionTreeClassifier(criterion = 'gini', random_state=100, max_depth=5, min_samples_leaf=5)\n",
    "DT_Classifier3.fit(features_df3, target_df3)"
   ]
  },
  {
   "cell_type": "code",
   "execution_count": 48,
   "metadata": {
    "collapsed": false
   },
   "outputs": [
    {
     "name": "stdout",
     "output_type": "stream",
     "text": [
      "\n",
      "DECISION TREE CLASSIFIER WITH ADDED FEATURE \"AnnualAvgTemp\" - PREDICTION RESULTS:\n",
      "\n",
      "Confusion Matrix: \n",
      " [[1120  130]\n",
      " [ 130  613]]\n",
      "\n",
      "Accuracy(%): \n",
      " 86.95\n",
      "\n",
      "Presicion(%): \n",
      " 89.6\n",
      "\n",
      "Recall(%): \n",
      " 89.6\n",
      "\n",
      "EVALUATION OF DECISION TREE CLASSIFIER WITH NEW DATAFRAME: \n",
      "\n"
     ]
    },
    {
     "data": {
      "image/png": "[encoded data removed]",
      "text/plain": [
       "<matplotlib.figure.Figure at 0x2112e01ab00>"
      ]
     },
     "metadata": {},
     "output_type": "display_data"
    },
    {
     "name": "stdout",
     "output_type": "stream",
     "text": [
      "10-fold Cross validation (Mean) scores: \n",
      "\n",
      "Accuracy(%): \n",
      " 76.8698492462\n",
      "Precision(%): \n",
      " 82.3335250431\n",
      "Recall(%): \n",
      " 82.4\n"
     ]
    }
   ],
   "source": [
    "#Prediction with Decision Tree classifier\n",
    "DT3_pred = DT_Classifier3.predict(features_df3)\n",
    "\n",
    "print(\"\\nDECISION TREE CLASSIFIER WITH ADDED FEATURE \\\"AnnualAvgTemp\\\" - PREDICTION RESULTS:\\n\")\n",
    "prediction_metrics(target_df3, DT3_pred)\n",
    "\n",
    "print(\"\\nEVALUATION OF DECISION TREE CLASSIFIER WITH NEW DATAFRAME: \\n\")\n",
    "cv10_evalulate(DT_Classifier3, features_df3, target_df3)"
   ]
  },
  {
   "cell_type": "markdown",
   "metadata": {},
   "source": [
    "##### Observation:\n",
    "> The decision tree classifier on the dataset newly added attribute till performs the same, giving above average results. Lets see whether the new attribute (\"AnnualAvgTemp\") has got into the main features (below)."
   ]
  },
  {
   "cell_type": "code",
   "execution_count": 49,
   "metadata": {
    "collapsed": false,
    "scrolled": false
   },
   "outputs": [
    {
     "name": "stdout",
     "output_type": "stream",
     "text": [
      "Feature ranking based on measurements:\n",
      "1.) feature 46 [PctKids2Par], Gini Importance = 0.596693\n",
      "2.) feature 5 [racePctWhite], Gini Importance = 0.143845\n",
      "3.) feature 7 [racePctHisp], Gini Importance = 0.075067\n",
      "4.) feature 73 [HousVacant], Gini Importance = 0.016462\n",
      "5.) feature 28 [HispPerCap], Gini Importance = 0.014920\n",
      "6.) feature 32 [PctNotHSGrad], Gini Importance = 0.013168\n",
      "7.) feature 87 [MedRent], Gini Importance = 0.011375\n",
      "8.) feature 62 [PctSpeakEnglOnly], Gini Importance = 0.011032\n",
      "9.) feature 77 [PctVacMore6Mos], Gini Importance = 0.010336\n",
      "10.) feature 43 [TotalPctDiv], Gini Importance = 0.010071\n"
     ]
    },
    {
     "data": {
      "image/png": "[encoded data removed]",
      "text/plain": [
       "<matplotlib.figure.Figure at 0x2112f0bf080>"
      ]
     },
     "metadata": {},
     "output_type": "display_data"
    }
   ],
   "source": [
    "#Extracting the feature importances established by the classifier\n",
    "f_importances3 = DT_Classifier3.feature_importances_\n",
    "feature_ranks_DT3 = np.argsort(f_importances3)[::-1]\n",
    "\n",
    "#Shortlisting the top 10 features chosen by the classifier\n",
    "mostPred10Features_DT3 = feature_ranks_DT3[:10]\n",
    "displayTop10Features(input_df3, f_importances3, mostPred10Features_DT3, 'Gini Importance')"
   ]
  },
  {
   "cell_type": "markdown",
   "metadata": {},
   "source": [
    "##### Observation:\n",
    "> We can observe that the new attribute (\"AnnualAvgTemp\") doesn't have any effect on the classifer's performance. So, one could say that the temperature variations don't factor in the crime rates across the country."
   ]
  }
 ],
 "metadata": {
  "kernelspec": {
   "display_name": "Python 3",
   "language": "python",
   "name": "python3"
  },
  "language_info": {
   "codemirror_mode": {
    "name": "ipython",
    "version": 3
   },
   "file_extension": ".py",
   "mimetype": "text/x-python",
   "name": "python",
   "nbconvert_exporter": "python",
   "pygments_lexer": "ipython3",
   "version": "3.6.0"
  }
 },
 "nbformat": 4,
 "nbformat_minor": 2
}
